{
 "cells": [
  {
   "cell_type": "code",
   "execution_count": 1,
   "metadata": {},
   "outputs": [],
   "source": [
    "import cv2\n",
    "import glob\n",
    "from csc.charuco_calibrator import CharucoCalibrator"
   ]
  },
  {
   "cell_type": "code",
   "execution_count": 2,
   "metadata": {},
   "outputs": [],
   "source": [
    "images_path = \"samples/checker/*.jpg\"\n",
    "image_files = glob.glob(images_path)\n",
    "\n",
    "chessboard_size = (11, 8)\n",
    "frame_size_h = 2592 // 2\n",
    "frame_size_w = 4608 // 2\n",
    "\n",
    "# if below is None, then the algorithm will try to deduce it\n",
    "square_mm = 20\n",
    "marker_mm = 15\n",
    "\n",
    "calibrator = CharucoCalibrator(\n",
    "    chessboard_size=chessboard_size,\n",
    "    frame_size_h=frame_size_h,\n",
    "    frame_size_w=frame_size_w,\n",
    "    square_mm=square_mm,\n",
    "    marker_mm=marker_mm,\n",
    ")"
   ]
  },
  {
   "cell_type": "code",
   "execution_count": 3,
   "metadata": {},
   "outputs": [],
   "source": [
    "objpoints, imgpoints = calibrator.process_images(image_files)"
   ]
  },
  {
   "cell_type": "code",
   "execution_count": null,
   "metadata": {},
   "outputs": [
    {
     "name": "stdout",
     "output_type": "stream",
     "text": [
      "0,0:  [[20. 20.  0.]]\n",
      "0,1:  [[40. 20.  0.]]\n",
      "0,2:  [[60. 20.  0.]]\n",
      "1,0:  [[20. 20.  0.]]\n"
     ]
    }
   ],
   "source": [
    "print(\"0,0: \", objpoints[0][0])\n",
    "print(\"0,1: \", objpoints[0][1])\n",
    "print(\"0,2: \", objpoints[0][2])\n",
    "print(\"1,0: \", objpoints[1][0])"
   ]
  },
  {
   "cell_type": "markdown",
   "metadata": {},
   "source": [
    "distance based on `square_mm` of the checker board"
   ]
  },
  {
   "cell_type": "code",
   "execution_count": 5,
   "metadata": {},
   "outputs": [],
   "source": [
    "ret, camera_matrix, dist, rvecs, tvecs = calibrator.calibrate_camera(\n",
    "    objpoints, imgpoints\n",
    ")"
   ]
  },
  {
   "cell_type": "markdown",
   "metadata": {},
   "source": [
    "- **ret**:\n",
    "  - **Description**: The `ret` value, also known as the reprojection error, measures how well the calibration algorithm approximates the actual camera parameters. It is the average distance between observed image points and projected object points using estimated parameters.\n",
    "  - **Mathematical Representation**:\n",
    "\n",
    "    $$  \n",
    "    \\text{ret} = \\frac{1}{N} \\sum_{i=1}^{N} \\| \\mathbf{p}_i - \\mathbf{\\hat{p}}_i \\|\n",
    "    $$\n",
    "\n",
    "    where:\n",
    "    - $N$ is the total number of points,\n",
    "    - $ \\mathbf{p}_i $ is the observed image point,\n",
    "    - $ \\mathbf{\\hat{p}}_i $ is the projected object point."
   ]
  },
  {
   "cell_type": "code",
   "execution_count": 6,
   "metadata": {},
   "outputs": [
    {
     "data": {
      "text/plain": [
       "1.1360524973713557"
      ]
     },
     "execution_count": 6,
     "metadata": {},
     "output_type": "execute_result"
    }
   ],
   "source": [
    "ret"
   ]
  },
  {
   "cell_type": "markdown",
   "metadata": {},
   "source": [
    "- **camera_matrix**:\n",
    "  - **Description**: The `camera_matrix` $ K $ represents the camera's intrinsic parameters, including focal lengths and the optical center. It is a 3x3 matrix.\n",
    "  - **Mathematical Representation**:\n",
    "\n",
    "    $$ \n",
    "    K = \\begin{bmatrix}\n",
    "    f_x & 0 & c_x \\\\\n",
    "    0 & f_y & c_y \\\\\n",
    "    0 & 0 & 1\n",
    "    \\end{bmatrix}\n",
    "    $$\n",
    "\n",
    "    where:\n",
    "    - $ f_x, f_y $ are the focal lengths in pixels,\n",
    "    - $ c_x, c_y $ are the optical center coordinates in the image."
   ]
  },
  {
   "cell_type": "code",
   "execution_count": 9,
   "metadata": {},
   "outputs": [
    {
     "data": {
      "text/plain": [
       "array([[1.73071791e+03, 0.00000000e+00, 1.15298257e+03],\n",
       "       [0.00000000e+00, 1.73012304e+03, 6.35733696e+02],\n",
       "       [0.00000000e+00, 0.00000000e+00, 1.00000000e+00]])"
      ]
     },
     "execution_count": 9,
     "metadata": {},
     "output_type": "execute_result"
    }
   ],
   "source": [
    "camera_matrix"
   ]
  },
  {
   "cell_type": "markdown",
   "metadata": {},
   "source": [
    "- **dist**:\n",
    "  - **Description**: The `dist` array contains distortion coefficients for lens distortion, including radial and tangential distortions.\n",
    "  - **Mathematical Representation**:\n",
    "\n",
    "    $$ \n",
    "    \\text{dist} = \\begin{bmatrix}\n",
    "    k_1 & k_2 & p_1 & p_2 & k_3\n",
    "    \\end{bmatrix}\n",
    "    $$\n",
    "\n",
    "    where:\n",
    "    - $ k_1, k_2, k_3 $ are radial distortion coefficients,\n",
    "    - $ p_1, p_2 $ are tangential distortion coefficients."
   ]
  },
  {
   "cell_type": "code",
   "execution_count": 10,
   "metadata": {},
   "outputs": [
    {
     "data": {
      "text/plain": [
       "array([[-0.02052814,  0.28413313, -0.00089577, -0.00162669, -0.58899161]])"
      ]
     },
     "execution_count": 10,
     "metadata": {},
     "output_type": "execute_result"
    }
   ],
   "source": [
    "dist"
   ]
  },
  {
   "cell_type": "markdown",
   "metadata": {},
   "source": [
    "- **rvecs**:\n",
    "  - **Description**: `rvecs` (rotation vectors) represent the camera's rotation relative to each view of the calibration object. Each vector can be converted into a rotation matrix using Rodrigues' formula.\n",
    "  - **Mathematical Representation**: Each $ \\mathbf{rvec}_i $ is a 3-element vector for rotation in 3D space."
   ]
  },
  {
   "cell_type": "code",
   "execution_count": 18,
   "metadata": {},
   "outputs": [
    {
     "name": "stdout",
     "output_type": "stream",
     "text": [
      "22 vectors from 22 calibration images\n",
      "first rvec: \n",
      " [[-0.62312387]\n",
      " [ 0.07352764]\n",
      " [-0.00869644]]\n"
     ]
    }
   ],
   "source": [
    "print(f\"{len(rvecs)} vectors from 22 calibration images\")\n",
    "print(\"first rvec: \\n\", rvecs[0])"
   ]
  },
  {
   "cell_type": "markdown",
   "metadata": {},
   "source": [
    "- **tvecs**:\n",
    "  - **Description**: `tvecs` (translation vectors) represent the camera's translation relative to each view of the calibration object. They translate the origin of the world coordinate system to the camera coordinate system.\n",
    "  - **Mathematical Representation**: Each $ \\mathbf{tvec}_i $ is a 3-element vector for translation in 3D space."
   ]
  },
  {
   "cell_type": "code",
   "execution_count": 19,
   "metadata": {},
   "outputs": [
    {
     "name": "stdout",
     "output_type": "stream",
     "text": [
      "first tvec: \n",
      " [[-150.23547371]\n",
      " [ -83.54561292]\n",
      " [ 439.01905341]]\n"
     ]
    }
   ],
   "source": [
    "print(\"first tvec: \\n\", tvecs[0])"
   ]
  },
  {
   "cell_type": "code",
   "execution_count": null,
   "metadata": {},
   "outputs": [],
   "source": []
  }
 ],
 "metadata": {
  "kernelspec": {
   "display_name": "csc",
   "language": "python",
   "name": "python3"
  },
  "language_info": {
   "codemirror_mode": {
    "name": "ipython",
    "version": 3
   },
   "file_extension": ".py",
   "mimetype": "text/x-python",
   "name": "python",
   "nbconvert_exporter": "python",
   "pygments_lexer": "ipython3",
   "version": "3.12.7"
  }
 },
 "nbformat": 4,
 "nbformat_minor": 2
}
